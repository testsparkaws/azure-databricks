{
 "cells": [
  {
   "cell_type": "code",
   "execution_count": 1,
   "metadata": {},
   "outputs": [],
   "source": [
    "# 18 Hourse Course \n",
    "# Weeek 1 => 9 Hours [7 FEB - 13 FEB ] => 9 Hours => UPTO SECTION 7, ANY How i have to complete this , chahe raat bar karna pade\n",
    "# Week 2 => 9 Hours [14 FEB - 20 FEB ] => 9 Hours\n",
    "# Week 3rd , can do revision with docs "
   ]
  },
  {
   "cell_type": "code",
   "execution_count": 1,
   "metadata": {},
   "outputs": [],
   "source": [
    "# Section 2: Introduction "
   ]
  },
  {
   "cell_type": "code",
   "execution_count": 2,
   "metadata": {},
   "outputs": [],
   "source": [
    "# Section 3: Getting Started \n",
    "'''\n",
    " # Creating AZ Cloud Account \n",
    " # Azure Portal Overview \n",
    " # Creating Databricks Workspace Service\n",
    " # Introductiun to Databricks Workspace\n",
    " # Azure Databricks Platform Architecture\n",
    "'''"
   ]
  },
  {
   "cell_type": "code",
   "execution_count": null,
   "metadata": {},
   "outputs": [],
   "source": [
    "# 3 Months Almost over , couldnt complte Associate + professional certificte of Datnricks \n",
    "# Become like SANDEEP BALLU, how much he was spedning to complte things"
   ]
  }
 ],
 "metadata": {
  "kernelspec": {
   "display_name": "de-venv1",
   "language": "python",
   "name": "python3"
  },
  "language_info": {
   "codemirror_mode": {
    "name": "ipython",
    "version": 3
   },
   "file_extension": ".py",
   "mimetype": "text/x-python",
   "name": "python",
   "nbconvert_exporter": "python",
   "pygments_lexer": "ipython3",
   "version": "3.9.12"
  }
 },
 "nbformat": 4,
 "nbformat_minor": 2
}
